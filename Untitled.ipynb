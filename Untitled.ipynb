{
 "cells": [
  {
   "cell_type": "markdown",
   "metadata": {},
   "source": [
    "VERSAO JANEIRO 2018"
   ]
  },
  {
   "cell_type": "code",
   "execution_count": 3,
   "metadata": {
    "collapsed": true
   },
   "outputs": [],
   "source": [
    "import numpy as np\n",
    "from math import *\n",
    "import matplotlib.pyplot as plt\n",
    "from mpl_toolkits.mplot3d import *"
   ]
  },
  {
   "cell_type": "markdown",
   "metadata": {},
   "source": [
    "Definicao de funcoes"
   ]
  },
  {
   "cell_type": "code",
   "execution_count": 4,
   "metadata": {
    "collapsed": true
   },
   "outputs": [],
   "source": [
    "#equacao de movimento para x2pontos\n",
    "def Fx(m,x,y):\n",
    "    return (-x-2*x*y)/m\n",
    "\n",
    "#equacao de movimento para y2pontos\n",
    "def Fy(m,x,y):\n",
    "    return (-x**2 -y +y**2)/m\n",
    "\n",
    "#mesmas equacoes em coordenadas polares\n",
    "def Fr(m,r,th): #r2pontos\n",
    "    return (-r -3*(r**2)*np.sin(th)*(np.cos(th))**2 - (r**2)*np.sin(th)**3)/m\n",
    "\n",
    "def Fth(m,r,th): #theta2pontos\n",
    "    return (r**3)*(2*np.cos(th)*(np.sin(th))**2 - np.cos(th)**3 + np.cos(th)*np.sin(th)**2)/m\n",
    "\n",
    "#Hamiltoniana\n",
    "def H(vx,vy,x,y):\n",
    "    return 0.5*(vx**2 + vy**2 + x**2 + y**2) + (x**2)*y -(y**3)/3\n",
    "\n",
    "#Potencial\n",
    "def V(x,y):\n",
    "    return 0.5*(x**2 + y**2) + y*(x**2) - (y**3)/3\n",
    "\n",
    "#Hamiltoniana em Coordenadas Polares\n",
    "def Hp(r,theta,vr,vth):\n",
    "    return 0.5*(vr**2 + r**2) + r*vr*(np.sin(theta)*np.sin(vth) + np.cos(theta)*np.cos(vth)) + (1/2)*r**2 + (np.sin(theta)*np.cos(theta)**2 - (1/3)*np.sin(theta)**3)*r**3\n",
    "#return 0.5*(vr**2 + vth**2) + 0.5*(r**2) + (r**3)*(np.sin(theta)- 4/3*np.sin**3(theta))\n",
    "\n",
    "def Pot(a,b):\n",
    "    return (1/2)*a**2+(np.sin(b)*(np.cos(b)**2)-(1/3)*np.sin(b)**3)*a**3"
   ]
  },
  {
   "cell_type": "code",
   "execution_count": null,
   "metadata": {
    "collapsed": true
   },
   "outputs": [],
   "source": [
    "#Velocidade angular, obtem-se de Hp fazendo vr = 0\n",
    "\"\"\"\n",
    "def vth(c,r,theta):\n",
    "    if (r != 0):\n",
    "        return  2*c/r -2*r*(np.sin(theta)-4/3*(np.sin(theta))**3) -1\n",
    "\"\"\""
   ]
  },
  {
   "cell_type": "markdown",
   "metadata": {},
   "source": [
    "Bloco para curva das superficies equipotenciais"
   ]
  },
  {
   "cell_type": "code",
   "execution_count": 5,
   "metadata": {
    "collapsed": false
   },
   "outputs": [
    {
     "name": "stderr",
     "output_type": "stream",
     "text": [
      "C:\\Users\\Cliente\\Anaconda3\\lib\\site-packages\\ipykernel\\__main__.py:9: RuntimeWarning: divide by zero encountered in true_divide\n",
      "C:\\Users\\Cliente\\Anaconda3\\lib\\site-packages\\ipykernel\\__main__.py:15: RuntimeWarning: invalid value encountered in sqrt\n",
      "C:\\Users\\Cliente\\Anaconda3\\lib\\site-packages\\ipykernel\\__main__.py:16: RuntimeWarning: invalid value encountered in sqrt\n",
      "C:\\Users\\Cliente\\Anaconda3\\lib\\site-packages\\ipykernel\\__main__.py:18: RuntimeWarning: invalid value encountered in sqrt\n",
      "C:\\Users\\Cliente\\Anaconda3\\lib\\site-packages\\ipykernel\\__main__.py:19: RuntimeWarning: invalid value encountered in sqrt\n"
     ]
    }
   ],
   "source": [
    "#H para K = 0, formando surperficies equipotenciais\n",
    "N = 1000 #quantidade de passos\n",
    "h = 5/N #tamanho do passo\n",
    "yl = np.linspace(-1.5,1.5,N) #valores de y para as curvas\n",
    "c = [i* .4/20 for i in range(1,20)] #conjunto de valores para energia potencial\n",
    "\n",
    "#valores de x para as curvas\n",
    "def xl(yl,c):\n",
    "    return (c + 1/3*yl**3 - 1/2*yl**2)/(1/2 + yl)\n",
    "\n",
    "#plot das curvas\n",
    "fig = plt.figure()\n",
    "for hl in c:\n",
    "    if (hl <= 0.16):\n",
    "        plt.plot(np.sqrt(xl(yl,hl)),yl,'r-')\n",
    "        plt.plot(-np.sqrt(xl(yl,hl)),yl,'r-')\n",
    "    else:\n",
    "        plt.plot(np.sqrt(xl(yl,hl)),yl,'k-')\n",
    "        plt.plot(-np.sqrt(xl(yl,hl)),yl,'k-')\n",
    "plt.axis([-1.0,1.0,-1.0,1.0])\n",
    "plt.show()"
   ]
  },
  {
   "cell_type": "markdown",
   "metadata": {},
   "source": [
    "Bloco da definicao dos termos para o Runge-Kutta"
   ]
  },
  {
   "cell_type": "code",
   "execution_count": 16,
   "metadata": {
    "collapsed": true
   },
   "outputs": [],
   "source": [
    "#definicao de posicoes x, y e r e theta\n",
    "x = []\n",
    "y = []\n",
    "r = list(range(N))\n",
    "th = list(range(N))\n",
    "\n",
    "#definicao de velocidades vx, vy e vr e vtheta\n",
    "vx = list(range(N))\n",
    "vy = list(range(N))\n",
    "vr = list(range(N))\n",
    "vth = list(range(N))\n",
    "\n",
    "#definicao dos termos do Runge-Kutta de 4a ordem (em cartesianas)\n",
    "k1vx = list(range(N))\n",
    "k1vy = list(range(N))\n",
    "k1x = list(range(N))\n",
    "k1y = list(range(N))\n",
    "\n",
    "k2vx = list(range(N))\n",
    "k2vy = list(range(N))\n",
    "k2x = list(range(N))\n",
    "k2y = list(range(N))\n",
    "\n",
    "k3vx = list(range(N))\n",
    "k3vy = list(range(N))\n",
    "k3x = list(range(N))\n",
    "k3y = list(range(N))\n",
    "\n",
    "k4vx = list(range(N))\n",
    "k4vy = list(range(N))\n",
    "k4x = list(range(N))\n",
    "k4y = list(range(N))\n",
    "\n",
    "#definicao dos termos do Runge-Kutta de 4a ordem (em polares)\n",
    "k1vr = list(range(N))\n",
    "k1vth = list(range(N))\n",
    "k1r = list(range(N))\n",
    "k1th = list(range(N))\n",
    "\n",
    "k2vr = list(range(N))\n",
    "k2vth = list(range(N))\n",
    "k2r = list(range(N))\n",
    "k2th = list(range(N))\n",
    "\n",
    "k3vr = list(range(N))\n",
    "k3vth = list(range(N))\n",
    "k3r = list(range(N))\n",
    "k3th = list(range(N))\n",
    "\n",
    "k4vr = list(range(N))\n",
    "k4vth = list(range(N))\n",
    "k4r = list(range(N))\n",
    "k4th = list(range(N))"
   ]
  },
  {
   "cell_type": "markdown",
   "metadata": {},
   "source": [
    "Bloco da definicao das condicoes iniciais segundo o potencial"
   ]
  },
  {
   "cell_type": "code",
   "execution_count": 41,
   "metadata": {
    "collapsed": false
   },
   "outputs": [
    {
     "name": "stdout",
     "output_type": "stream",
     "text": [
      "39\n"
     ]
    }
   ],
   "source": [
    "#definicao das condicoes iniciais de r e theta\n",
    "a=np.linspace(0,1.5,10) #para aplicar ao r\n",
    "b=np.linspace(0,2*pi,10) #para aplicar ao theta\n",
    "rCond=[] #condicoes iniciais de r\n",
    "thCond=[] #condicoes iniciais de theta\n",
    "\n",
    "#varredura dos elementos dos vetores de condicoes iniciais\n",
    "for i in range(0,9):\n",
    "    for j in range(0,9):\n",
    "        if (Pot(a[i],b[j])<0.22 and Pot(a[i],b[j])>0.): #condicao para pontos de menor energia que o valor limite\n",
    "            rCond.append(a[i])\n",
    "            thCond.append(b[j])\n",
    "print(len(thCond))"
   ]
  },
  {
   "cell_type": "markdown",
   "metadata": {},
   "source": [
    "Bloco do Runge-Kutta"
   ]
  },
  {
   "cell_type": "code",
   "execution_count": 46,
   "metadata": {
    "collapsed": false
   },
   "outputs": [
    {
     "name": "stderr",
     "output_type": "stream",
     "text": [
      "C:\\Users\\Cliente\\Anaconda3\\lib\\site-packages\\ipykernel\\__main__.py:14: RuntimeWarning: overflow encountered in double_scalars\n",
      "C:\\Users\\Cliente\\Anaconda3\\lib\\site-packages\\ipykernel\\__main__.py:11: RuntimeWarning: overflow encountered in double_scalars\n",
      "C:\\Users\\Cliente\\Anaconda3\\lib\\site-packages\\ipykernel\\__main__.py:11: RuntimeWarning: invalid value encountered in sin\n",
      "C:\\Users\\Cliente\\Anaconda3\\lib\\site-packages\\ipykernel\\__main__.py:11: RuntimeWarning: invalid value encountered in cos\n",
      "C:\\Users\\Cliente\\Anaconda3\\lib\\site-packages\\ipykernel\\__main__.py:14: RuntimeWarning: invalid value encountered in cos\n",
      "C:\\Users\\Cliente\\Anaconda3\\lib\\site-packages\\ipykernel\\__main__.py:14: RuntimeWarning: invalid value encountered in sin\n",
      "C:\\Users\\Cliente\\Anaconda3\\lib\\site-packages\\ipykernel\\__main__.py:34: RuntimeWarning: invalid value encountered in double_scalars\n",
      "C:\\Users\\Cliente\\Anaconda3\\lib\\site-packages\\ipykernel\\__main__.py:37: RuntimeWarning: invalid value encountered in double_scalars\n"
     ]
    },
    {
     "name": "stdout",
     "output_type": "stream",
     "text": [
      "7209783\n"
     ]
    },
    {
     "name": "stderr",
     "output_type": "stream",
     "text": [
      "C:\\Users\\Cliente\\Anaconda3\\lib\\site-packages\\ipykernel\\__main__.py:9: RuntimeWarning: divide by zero encountered in true_divide\n",
      "C:\\Users\\Cliente\\Anaconda3\\lib\\site-packages\\ipykernel\\__main__.py:62: RuntimeWarning: invalid value encountered in sqrt\n",
      "C:\\Users\\Cliente\\Anaconda3\\lib\\site-packages\\ipykernel\\__main__.py:63: RuntimeWarning: invalid value encountered in sqrt\n"
     ]
    }
   ],
   "source": [
    "#Fazendo Runge kutta nas equações de movimento para r e theta ARRUMAR COND INICIAIS A PARTIR DE H !!!!!!!!!!!!!!!!!!!!!!!!!!!!!!!!!!\n",
    "#d = np.linspace(0,pi,100) #condicoes iniciais genericas de theta\n",
    "#f = np.linspace(0,0.4,100) #condicoes iniciais genericas de r\n",
    "\n",
    "for j in range(0,len(rCond)-1): #for j in range(0,len(d)):\n",
    "    r[0] = rCond[j] #r[0] = f[j]\n",
    "    vr[0] = 0 #velocidade radial\n",
    "    for k in range(0,len(thCond)-1):\n",
    "        th[0] = thCond[k]\n",
    "        aux = abs(2*0.17 - r[0]**2 - 2*(r[0]**3)*(np.sin(th[0]) - 4/3*(np.sin(th[0]))**3))\n",
    "        vth[0] = np.sqrt(aux) #velocidade angular vth[0] = np.sqrt(aux)\n",
    "        for i in range(0,N-1): #for i in range(0,N-1):\n",
    "            k1vr[i] = Fr(1,r[i],th[i])*h\n",
    "            k1vth[i] = Fth(1,r[i],th[i])*h\n",
    "            k1r[i] = vr[i]*h\n",
    "            k1th[i] = vth[i]*h\n",
    "\n",
    "            k2vr[i] = Fr(1,r[i]+k1r[i]/2,th[i]+k1th[i]/2)*h\n",
    "            k2vth[i] = Fth(1,r[i]+k1r[i]/2,th[i]+k1th[i]/2)*h\n",
    "            k2r[i] = (vr[i] + k1vr[i]/2)*h\n",
    "            k2th[i] = (vth[i] + k1vth[i]/2)*h\n",
    "\n",
    "            k3vr[i] = Fr(1,r[i]+k2r[i]/2,th[i]+k2th[i]/2)*h\n",
    "            k3vth[i] = Fth(1,r[i]+k2r[i]/2,th[i]+k2th[i]/2)*h\n",
    "            k3r[i] = (vr[i] + k2vr[i]/2)*h\n",
    "            k3th[i] = (vth[i] + k2vth[i]/2)*h\n",
    "\n",
    "            k4vr[i] = Fr(1,r[i]+k3r[i],th[i]+k3th[i])*h\n",
    "            k4vth[i] = Fth(1,r[i]+k3r[i],th[i]+k3th[i])*h\n",
    "            k4r[i] = (vr[i] + k3vr[i])*h\n",
    "            k4th[i] = (vth[i] + k3vth[i])*h\n",
    "\n",
    "            vr[i+1] = vr[i] + 1/6*(k1vr[i] + 2*(k2vr[i] + k3vr[i]) + k4vr[i])\n",
    "            vth[i+1] = vth[i] + 1/6*(k1vth[i] + 2*(k2vth[i] + k3vth[i]) + k4vth[i])\n",
    "\n",
    "            r[i+1] = r[i] + 1/6*(k1r[i] + 2*(k2r[i] + k3r[i]) + k4r[i])\n",
    "            th[i+1] = th[i] + 1/6*(k1th[i] + 2*(k2th[i] + k3th[i]) + k4th[i])\n",
    "\n",
    "            x.append(r[i+1]*np.cos(th[i+1]))\n",
    "            y.append(r[i+1]*np.sin(th[i+1]))\n",
    "\n",
    "#    print(x[0],x[N-1])\n",
    "#    print(r)\n",
    "#    print(np.cos(th))\n",
    "#    print(len(x))\n",
    "#    print(type(r))\n",
    "#    print(type(th))\n",
    "#        if (x[i]>pow(10,-1) or y[i]>pow(10,-1)):\n",
    "#            print(x[i],y[i])\n",
    "#    if(x[100]> 0 and y[100] > 1):\n",
    "#        plt.plot(x,y,'g-')\n",
    "#    if(x[100]> sqrt(3)/2 and y[100] > 0.5):\n",
    "#        plt.plot(x,y,'b-')\n",
    "#    if(x[100] < sqrt(3)/2 and y[100] < 0.5):\n",
    "#        plt.plot(x,y,'y-')\n",
    "#    else:\n",
    "#        plt.plot(x,y,'p-')\n",
    "        plt.plot(x[0],y[0],'go')\n",
    "\n",
    "plt.axis([-1.5,1.5,-1.5,1.5]) #extensao da janela do plot\n",
    "plt.plot(np.sqrt(xl(yl,0.16)),yl,'r-') #plot de metade da curva equipotencial\n",
    "plt.plot(-np.sqrt(xl(yl,0.16)),yl,'r-') #plot da outra metade da curva equipotencial\n",
    "plt.show() #exibicao do plot"
   ]
  },
  {
   "cell_type": "code",
   "execution_count": null,
   "metadata": {
    "collapsed": true
   },
   "outputs": [],
   "source": []
  }
 ],
 "metadata": {
  "anaconda-cloud": {},
  "kernelspec": {
   "display_name": "Python [Root]",
   "language": "python",
   "name": "Python [Root]"
  },
  "language_info": {
   "codemirror_mode": {
    "name": "ipython",
    "version": 3
   },
   "file_extension": ".py",
   "mimetype": "text/x-python",
   "name": "python",
   "nbconvert_exporter": "python",
   "pygments_lexer": "ipython3",
   "version": "3.5.2"
  }
 },
 "nbformat": 4,
 "nbformat_minor": 0
}
