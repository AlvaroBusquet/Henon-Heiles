{
 "cells": [
  {
   "cell_type": "markdown",
   "metadata": {},
   "source": [
    "VERSAO JANEIRO 2018"
   ]
  },
  {
   "cell_type": "code",
   "execution_count": 1,
   "metadata": {
    "collapsed": true
   },
   "outputs": [],
   "source": [
    "import numpy as np\n",
    "from math import *\n",
    "import matplotlib.pyplot as plt\n",
    "from mpl_toolkits.mplot3d import *"
   ]
  },
  {
   "cell_type": "markdown",
   "metadata": {},
   "source": [
    "Definicao de funcoes"
   ]
  },
  {
   "cell_type": "code",
   "execution_count": 2,
   "metadata": {
    "collapsed": true
   },
   "outputs": [],
   "source": [
    "#equacao de movimento para x2pontos\n",
    "def Fx(m,x,y):\n",
    "    return (- x - 2*x*y)/m\n",
    "\n",
    "#equacao de movimento para y2pontos\n",
    "def Fy(m,x,y):\n",
    "    return (-x**2 -y + y**2)/m\n",
    "\n",
    "#mesmas equacoes em coordenadas polares\n",
    "def Fr(m,r,th): #r2pontos\n",
    "    return (-r -3*(r**2)*np.sin(th)*(np.cos(th))**2 - (r**2)*np.sin(th)**3)/m\n",
    "\n",
    "def Fth(m,r,th): #theta2pontos\n",
    "    return (r**3)*(2*np.cos(th)*(np.sin(th))**2 - np.cos(th)**3 + np.cos(th)*np.sin(th)**2)/m\n",
    "\n",
    "#Hamiltoniana e Potencial em Coordenadas Cartesianas\n",
    "def H(vx,vy,x,y):\n",
    "    return 0.5*(vx**2 + vy**2 + x**2 + y**2) + (x**2)*y -(y**3)/3\n",
    "\n",
    "def V(x,y):\n",
    "    return 0.5*(x**2 + y**2) + y*(x**2) - (y**3)/3\n",
    "\n",
    "#Hamiltoniana e Potencial em Coordenadas Polares\n",
    "def Hp(r,theta,vr,vth):\n",
    "    #return 0.5*(vr**2 + r**2) + r*vr*(np.sin(theta)*np.sin(vth) + np.cos(theta)*np.cos(vth)) + (1/2)*r**2 + (np.sin(theta)*np.cos(theta)**2 - (1/3)*np.sin(theta)**3)*r**3\n",
    "    return 0.5*(vr**2 + r**2 + vth*(r**2)) + (r**3)*np.sin(theta)*((np.cos(theta)**2)-(np.sin(theta)**2)/3)\n",
    "\n",
    "def Vp(r,theta): #V=V(r,theta)\n",
    "    return (1/2)*r**2 + (np.sin(theta)*(np.cos(theta)**2) - (1/3)*np.sin(theta)**3)*r**3"
   ]
  },
  {
   "cell_type": "markdown",
   "metadata": {},
   "source": [
    "Construcao das curvas de superficies equipotenciais"
   ]
  },
  {
   "cell_type": "code",
   "execution_count": 3,
   "metadata": {
    "collapsed": false
   },
   "outputs": [
    {
     "name": "stderr",
     "output_type": "stream",
     "text": [
      "C:\\Users\\Cliente\\Anaconda3\\lib\\site-packages\\ipykernel\\__main__.py:9: RuntimeWarning: divide by zero encountered in true_divide\n",
      "C:\\Users\\Cliente\\Anaconda3\\lib\\site-packages\\ipykernel\\__main__.py:9: RuntimeWarning: invalid value encountered in sqrt\n"
     ]
    }
   ],
   "source": [
    "#H para K = 0, formando surperficies equipotenciais\n",
    "N = 10000 #quantidade de passos\n",
    "h = 0.01 #tamanho do passo (9/N)\n",
    "yl = np.linspace(-1.5,1.5,N) #valores de y para as curvas\n",
    "c = [i* .4/20 for i in range(1,20)] #conjunto de valores para energia potencial\n",
    "\n",
    "#valores de x para as curvas\n",
    "def xl(yl,c):\n",
    "    return np.sqrt((c + (1/3)*yl**3 - (1/2)*yl**2)/(1/2 + yl))\n",
    "\n",
    "#plot das curvas\n",
    "fig = plt.figure()\n",
    "for hl in c:\n",
    "    if (hl <= 0.16):\n",
    "        plt.plot(xl(yl,hl),yl,'r-')\n",
    "        plt.plot(-xl(yl,hl),yl,'r-')\n",
    "    else:\n",
    "        plt.plot(xl(yl,hl),yl,'k-')\n",
    "        plt.plot(-xl(yl,hl),yl,'k-')\n",
    "plt.axis([-1.0,1.0,-1.0,1.0])\n",
    "plt.show()"
   ]
  },
  {
   "cell_type": "markdown",
   "metadata": {},
   "source": [
    "Bloco da definicao dos termos para o Runge-Kutta na forma de listas de extensao N"
   ]
  },
  {
   "cell_type": "code",
   "execution_count": 4,
   "metadata": {
    "collapsed": true
   },
   "outputs": [],
   "source": [
    "#definicao de posicoes x, y e r e theta\n",
    "x = list(range(N))\n",
    "y = list(range(N))\n",
    "r = list(range(N))\n",
    "th = list(range(N))\n",
    "\n",
    "#definicao de velocidades vx, vy e vr e vtheta\n",
    "vx = list(range(N))\n",
    "vy = list(range(N))\n",
    "vr = list(range(N))\n",
    "vth = list(range(N))\n",
    "\n",
    "#definicao dos termos do Runge-Kutta de 4a ordem (em cartesianas)\n",
    "k1vx = list(range(N))\n",
    "k1vy = list(range(N))\n",
    "k1x = list(range(N))\n",
    "k1y = list(range(N))\n",
    "\n",
    "k2vx = list(range(N))\n",
    "k2vy = list(range(N))\n",
    "k2x = list(range(N))\n",
    "k2y = list(range(N))\n",
    "\n",
    "k3vx = list(range(N))\n",
    "k3vy = list(range(N))\n",
    "k3x = list(range(N))\n",
    "k3y = list(range(N))\n",
    "\n",
    "k4vx = list(range(N))\n",
    "k4vy = list(range(N))\n",
    "k4x = list(range(N))\n",
    "k4y = list(range(N))"
   ]
  },
  {
   "cell_type": "markdown",
   "metadata": {},
   "source": [
    "Construcao das Condicoes Iniciais"
   ]
  },
  {
   "cell_type": "code",
   "execution_count": 5,
   "metadata": {
    "collapsed": false
   },
   "outputs": [
    {
     "name": "stdout",
     "output_type": "stream",
     "text": [
      "546 546 546\n",
      "546\n"
     ]
    }
   ],
   "source": [
    "#-----------------------\n",
    "#construcao das condicoes iniciais em r e theta, em seguida faz-se a transformacao para coordenadas cartesianas\n",
    "#-----------------------\n",
    "\n",
    "def Fvth(r,th,vr):\n",
    "    return 2*(0.3/(r**2) - r*np.sin(th)*((np.cos(th)**2) - (1/3)*(np.sin(th)**2))) - (vr**2)/(r**2) - 1\n",
    "\n",
    "rCond=np.linspace(0,1.1,20)#valores adequados ao estabelecimento das condições iniciais\n",
    "thCond=np.linspace(0,2*np.pi,40)\n",
    "xCond=[]\n",
    "yCond=[]\n",
    "vxCond=[]\n",
    "vyCond=[]\n",
    "\n",
    "vrCond=0.0\n",
    "\n",
    "for i in range(0,len(rCond)-1):\n",
    "    if(rCond[i]==0):\n",
    "            continue\n",
    "            \n",
    "    for j in range(0,len(thCond)-1):\n",
    "        if(Fvth(rCond[i],thCond[j],vrCond)<0):\n",
    "            continue\n",
    "        else:\n",
    "            xCond.append(rCond[i]*np.cos(thCond[j]))\n",
    "            yCond.append(rCond[i]*np.sin(thCond[j]))\n",
    "            vxCond.append(vrCond*np.cos(thCond[j])-rCond[i]*np.sin(thCond[j])*Fvth(rCond[i],thCond[j],vrCond))\n",
    "            vyCond.append(vrCond*np.sin(thCond[j])+rCond[i]*np.cos(thCond[j])*Fvth(rCond[i],thCond[j],vrCond))\n",
    "\n",
    "print(len(xCond),len(vxCond),len(vyCond))\n",
    "print(len(xCond))\n",
    "\n",
    "plt.plot(xCond,yCond,'go')\n",
    "plt.show()"
   ]
  },
  {
   "cell_type": "markdown",
   "metadata": {},
   "source": [
    "Espaco de Configuracao"
   ]
  },
  {
   "cell_type": "code",
   "execution_count": null,
   "metadata": {
    "collapsed": false
   },
   "outputs": [],
   "source": [
    "def Fvx(x,y):\n",
    "    return -x-2*x*y\n",
    "\n",
    "def Fvy(x,y):\n",
    "    return -x**2-y+y**2\n",
    "\n",
    "fig = plt.figure()\n",
    "\n",
    "#xCond=np.linspace(-0.8,0.8,20)\n",
    "#yCond=np.linspace(-0.5,0.9,20)\n",
    "#vyCond = 0.0\n",
    "\n",
    "        \n",
    "for j in range(0,len(xCond)-1): #atribuicao de condicoes iniciais\n",
    "    #for k in range(0,len(yCond)-1):\n",
    "        \n",
    "    if(V(float(xCond[j]),float(yCond[j]))>0.17):\n",
    "        pass\n",
    "    else:\n",
    "        x[0] = xCond[j]\n",
    "        y[0] = yCond[j]\n",
    "        vx[0]= vxCond[j]\n",
    "        vy[0] = vyCond[j]\n",
    "        \n",
    "        #if(x[0]==0):\n",
    "        #    break\n",
    "        \n",
    "        #aux = 2*(0.3 - (x[0]**2)*y[0] + (y[0]**3)/3) - x[0]**2 - y[0]**2 - vy[0]**2\n",
    "        #if(aux < 0):\n",
    "            #continue\n",
    "        \n",
    "        #vx[0]=np.sqrt(aux)\n",
    "    \n",
    "        for i in range(0,N-1): #execucao do metodo de Runge-Kutta com coordenadas cartesianas\n",
    "             \n",
    "            k1vx[i] = Fvx(x[i],y[i])\n",
    "            k1vy[i] = Fvy(x[i],y[i])\n",
    "            k1x[i] = vx[i]\n",
    "            k1y[i] = vy[i]\n",
    "         \n",
    "            k2vx[i] = Fvx(x[i]+k1x[i]*h/2,y[i]+k1y[i]*h/2)\n",
    "            k2vy[i] = Fvy(x[i]+k1x[i]*h/2,y[i]+k1y[i]*h/2)\n",
    "            k2x[i] = vx[i]+k1vx[i]*h/2\n",
    "            k2y[i] = vy[i]+k1vy[i]*h/2\n",
    "            \n",
    "            k3vx[i] = Fvx(x[i]+k2x[i]*h/2,y[i]+k2y[i]*h/2)\n",
    "            k3vy[i] = Fvy(x[i]+k2x[i]*h/2,y[i]+k2y[i]*h/2)\n",
    "            k3x[i] = vx[i]+k2vx[i]*h/2\n",
    "            k3y[i] = vy[i]+k2vy[i]*h/2\n",
    "        \n",
    "            k4vx[i] = Fvx(x[i]+k3x[i]*h,y[i]+k3y[i]*h)\n",
    "            k4vy[i] = Fvy(x[i]+k3x[i]*h,y[i]+k3y[i]*h)\n",
    "            k4x[i] = vx[i]+k3vx[i]*h\n",
    "            k4y[i] = vy[i]+k3vy[i]*h\n",
    "        \n",
    "            vx[i+1] = vx[i] + (h/6)*(k1vx[i] + 2*(k2vx[i] + k3vx[i]) + k4vx[i])\n",
    "            vy[i+1] = vy[i] + (h/6)*(k1vy[i] + 2*(k2vy[i] + k3vy[i]) + k4vy[i])\n",
    "            \n",
    "            if(x[i]>2*np.sqrt(3)/2 or x[i]<-2*np.sqrt(3)/2):\n",
    "                x[i+1]=x[i]\n",
    "            else:\n",
    "                x[i+1] = x[i] + (h/6)*(k1x[i] + 2*(k2x[i] + k3x[i]) + k4x[i])\n",
    "                \n",
    "            if(y[i]>2 or y[i]<-1):\n",
    "                y[i+1]=y[i]\n",
    "            else:\n",
    "                y[i+1] = y[i] + (h/6)*(k1y[i] + 2*(k2y[i] + k3y[i]) + k4y[i])\n",
    "           \n",
    "            #print(H(vx[i+1],vy[i+1],x[i+1],y[i+1]))\n",
    "        #print(H(vx[0],vy[0],x[0],y[0]))\n",
    "        print(H(vx[i+1],vy[i+1],x[i+1],y[i+1]))\n",
    "        \n",
    "        if (x[N-500]>=np.sqrt(3)/2): #(x[i+1]>1.5 and y[i+1]<-0.5):se sair pela direita\n",
    "            plt.plot(x[0],y[0],'b.')#azul         plt.plot(x[0],y[0],'b.')\n",
    "        elif (x[N-500]<=-np.sqrt(3)/2): #(x[i+1]<-1.5 and y[i+1]<-0.5):se sair pela esquerda\n",
    "            plt.plot(x[0],y[0],'r.')#vermelho        plt.plot(x[0],y[0],'r.')\n",
    "        elif (y[N-500]>=1.0): #(y[i+1]>2.0 and abs(x[i+1])<0.27):se sair por cima\n",
    "            plt.plot(x[0],y[0],'g.')#verde        plt.plot(x[0],y[0],'g.')\n",
    "        else: #se nao sair\n",
    "            plt.plot(x[0],y[0],'k.')#preto        plt.plot(x[0],y[0],'k.')\n",
    "        \n",
    "plt.axis([-1.5,1.5,-1.5,1.5]) #extensao da janela do plot\n",
    "plt.plot(xl(yl,0.17),yl,'r-') #plot de metade da curva equipotencial\n",
    "plt.plot(-xl(yl,0.17),yl,'r-') #plot da outra metade da curva equipotencial\n",
    "plt.show() #exibicao do plot"
   ]
  },
  {
   "cell_type": "markdown",
   "metadata": {},
   "source": [
    "Espaco de Fase"
   ]
  },
  {
   "cell_type": "code",
   "execution_count": 31,
   "metadata": {
    "collapsed": false
   },
   "outputs": [
    {
     "data": {
      "image/png": "[encoded data removed]",
      "text/plain": [
       "<matplotlib.figure.Figure at 0x2046ed74358>"
      ]
     },
     "metadata": {},
     "output_type": "display_data"
    }
   ],
   "source": [
    "def Fvx(x,y):\n",
    "    return -x-2*x*y\n",
    "\n",
    "def Fvy(x,y):\n",
    "    return -x**2-y+y**2\n",
    "\n",
    "fig = plt.figure()\n",
    "\n",
    "yCond=np.linspace(-0.6,1.5,40)\n",
    "vyCond=np.linspace(-1,1,40)\n",
    "\n",
    "        \n",
    "for j in range(0,len(vyCond)-1): #atribuicao de condicoes iniciais\n",
    "    for k in range(0,len(yCond)-1):\n",
    "    \n",
    "        x[0] = 0\n",
    "        y[0] = yCond[k]\n",
    "        vy[0] = vyCond[j]\n",
    "    \n",
    "        aux = 2*(0.3 - (x[0]**2)*y[0] + (y[0]**3)/3) - x[0]**2 - y[0]**2 - vy[0]**2\n",
    "        if(aux < 0):\n",
    "            continue\n",
    "        \n",
    "        vx[0]=np.sqrt(aux)\n",
    "    \n",
    "        for i in range(0,N-1): #execucao do metodo de Runge-Kutta com coordenadas cartesianas\n",
    "             \n",
    "            k1vx[i] = Fvx(x[i],y[i])\n",
    "            k1vy[i] = Fvy(x[i],y[i])\n",
    "            k1x[i] = vx[i]\n",
    "            k1y[i] = vy[i]\n",
    "         \n",
    "            k2vx[i] = Fvx(x[i]+k1x[i]*h/2,y[i]+k1y[i]*h/2)\n",
    "            k2vy[i] = Fvy(x[i]+k1x[i]*h/2,y[i]+k1y[i]*h/2)\n",
    "            k2x[i] = vx[i]+k1vx[i]*h/2\n",
    "            k2y[i] = vy[i]+k1vy[i]*h/2\n",
    "        \n",
    "            k3vx[i] = Fvx(x[i]+k2x[i]*h/2,y[i]+k2y[i]*h/2)\n",
    "            k3vy[i] = Fvy(x[i]+k2x[i]*h/2,y[i]+k2y[i]*h/2)\n",
    "            k3x[i] = vx[i]+k2vx[i]*h/2\n",
    "            k3y[i] = vy[i]+k2vy[i]*h/2\n",
    "        \n",
    "            k4vx[i] = Fvx(x[i]+k3x[i]*h,y[i]+k3y[i]*h)\n",
    "            k4vy[i] = Fvy(x[i]+k3x[i]*h,y[i]+k3y[i]*h)\n",
    "            k4x[i] = vx[i]+k3vx[i]*h\n",
    "            k4y[i] = vy[i]+k3vy[i]*h\n",
    "        \n",
    "            vx[i+1] = vx[i] + (h/6)*(k1vx[i] + 2*(k2vx[i] + k3vx[i]) + k4vx[i])\n",
    "            vy[i+1] = vy[i] + (h/6)*(k1vy[i] + 2*(k2vy[i] + k3vy[i]) + k4vy[i])\n",
    "            \n",
    "            if(x[i]>2*np.sqrt(3)/2 or x[i]<-2*np.sqrt(3)/2):\n",
    "                x[i+1]=x[i]\n",
    "            else:\n",
    "                x[i+1] = x[i] + (h/6)*(k1x[i] + 2*(k2x[i] + k3x[i]) + k4x[i])\n",
    "                \n",
    "            if(y[i]>2 or y[i]<-1):\n",
    "                y[i+1]=y[i]\n",
    "            else:\n",
    "                y[i+1] = y[i] + (h/6)*(k1y[i] + 2*(k2y[i] + k3y[i]) + k4y[i])\n",
    "           \n",
    "            #print(H(vx[i+1],vy[i+1],x[i+1],y[i+1]))\n",
    "        #print(H(vx[0],vy[0],x[0],y[0]))\n",
    "        #print(H(vx[i+1],vy[i+1],x[i+1],y[i+1]))\n",
    "        \n",
    "        if (x[N-500]>=np.sqrt(3)/2): #(x[i+1]>1.5 and y[i+1]<-0.5):se sair pela direita\n",
    "            plt.plot(y[0],vy[0],'b.')#azul         plt.plot(x[0],y[0],'b.')\n",
    "        elif (x[N-500]<=-np.sqrt(3)/2): #(x[i+1]<-1.5 and y[i+1]<-0.5):se sair pela esquerda\n",
    "            plt.plot(y[0],vy[0],'r.')#vermelho        plt.plot(x[0],y[0],'r.')\n",
    "        elif (y[N-500]>=1.0): #(y[i+1]>2.0 and abs(x[i+1])<0.27):se sair por cima\n",
    "            plt.plot(y[0],vy[0],'g.')#verde        plt.plot(x[0],y[0],'g.')\n",
    "        else: #se nao sair\n",
    "            plt.plot(y[0],vy[0],'k.')#preto        plt.plot(x[0],y[0],'k.')\n",
    "        \n",
    "plt.axis([-1.5,1.5,-1.5,1.5]) #extensao da janela do plot\n",
    "plt.show() #exibicao do plot"
   ]
  },
  {
   "cell_type": "markdown",
   "metadata": {},
   "source": [
    "Tempo de Escape"
   ]
  },
  {
   "cell_type": "code",
   "execution_count": 5,
   "metadata": {
    "collapsed": false
   },
   "outputs": [],
   "source": [
    "def Fvx(x,y):\n",
    "    return -x-2*x*y\n",
    "\n",
    "def Fvy(x,y):\n",
    "    return -x**2-y+y**2\n",
    "\n",
    "I_val=[]\n",
    "vy_val=[]\n",
    "y_val=[]\n",
    "\n",
    "yCond=np.linspace(-0.6,1.5,40)\n",
    "vyCond=np.linspace(-1,1,40)\n",
    "\n",
    "        \n",
    "for j in range(0,len(vyCond)-1): #atribuicao de condicoes iniciais\n",
    "    for k in range(0,len(yCond)-1):\n",
    "    \n",
    "        x[0] = 0\n",
    "        y[0] = yCond[k]\n",
    "        vy[0] = vyCond[j]\n",
    "    \n",
    "        aux = 2*(0.3 - (x[0]**2)*y[0] + (y[0]**3)/3) - x[0]**2 - y[0]**2 - vy[0]**2\n",
    "        if(aux < 0):\n",
    "            continue\n",
    "        \n",
    "        vx[0]=np.sqrt(aux)\n",
    "    \n",
    "        for i in range(0,N-1): #execucao do metodo de Runge-Kutta com coordenadas cartesianas\n",
    "             \n",
    "            k1vx[i] = Fvx(x[i],y[i])\n",
    "            k1vy[i] = Fvy(x[i],y[i])\n",
    "            k1x[i] = vx[i]\n",
    "            k1y[i] = vy[i]\n",
    "         \n",
    "            k2vx[i] = Fvx(x[i]+k1x[i]*h/2,y[i]+k1y[i]*h/2)\n",
    "            k2vy[i] = Fvy(x[i]+k1x[i]*h/2,y[i]+k1y[i]*h/2)\n",
    "            k2x[i] = vx[i]+k1vx[i]*h/2\n",
    "            k2y[i] = vy[i]+k1vy[i]*h/2\n",
    "        \n",
    "            k3vx[i] = Fvx(x[i]+k2x[i]*h/2,y[i]+k2y[i]*h/2)\n",
    "            k3vy[i] = Fvy(x[i]+k2x[i]*h/2,y[i]+k2y[i]*h/2)\n",
    "            k3x[i] = vx[i]+k2vx[i]*h/2\n",
    "            k3y[i] = vy[i]+k2vy[i]*h/2\n",
    "        \n",
    "            k4vx[i] = Fvx(x[i]+k3x[i]*h,y[i]+k3y[i]*h)\n",
    "            k4vy[i] = Fvy(x[i]+k3x[i]*h,y[i]+k3y[i]*h)\n",
    "            k4x[i] = vx[i]+k3vx[i]*h\n",
    "            k4y[i] = vy[i]+k3vy[i]*h\n",
    "        \n",
    "            vx[i+1] = vx[i] + (h/6)*(k1vx[i] + 2*(k2vx[i] + k3vx[i]) + k4vx[i])\n",
    "            vy[i+1] = vy[i] + (h/6)*(k1vy[i] + 2*(k2vy[i] + k3vy[i]) + k4vy[i])\n",
    "            \n",
    "            if(x[i]>2*np.sqrt(3)/2 or x[i]<-2*np.sqrt(3)/2):\n",
    "                I_val.append(i)\n",
    "                vy_val.append(vy[0])\n",
    "                y_val.append(y[0])\n",
    "                break\n",
    "            else:\n",
    "                x[i+1] = x[i] + (h/6)*(k1x[i] + 2*(k2x[i] + k3x[i]) + k4x[i])\n",
    "                \n",
    "            if(y[i]>2 or y[i]<-1):\n",
    "                I_val.append(i)\n",
    "                vy_val.append(vy[0])\n",
    "                y_val.append(y[0])\n",
    "                break\n",
    "            else:\n",
    "                y[i+1] = y[i] + (h/6)*(k1y[i] + 2*(k2y[i] + k3y[i]) + k4y[i])\n",
    "                \n",
    "            if(i==N-2):\n",
    "                I_val.append(i)\n",
    "                vy_val.append(vy[0])\n",
    "                y_val.append(y[0])\n",
    "           \n",
    "            #print(H(vx[i+1],vy[i+1],x[i+1],y[i+1]))\n",
    "        #print(H(vx[0],vy[0],x[0],y[0]))\n",
    "        #print(H(vx[i+1],vy[i+1],x[i+1],y[i+1]))\n",
    "        \n",
    "        #if (i<=500): #(x[i+1]>1.5 and y[i+1]<-0.5):se sair pela direita\n",
    "        #    plt.plot(y[0],vy[0],color=cmap(norm(i)))#azul         plt.plot(x[0],y[0],'b.')\n",
    "        #elif (i>500 and i<=1000): #(x[i+1]<-1.5 and y[i+1]<-0.5):se sair pela esquerda\n",
    "        #    plt.plot(y[0],vy[0],color=cmap(norm(i)))#ciano       plt.plot(x[0],y[0],'r.')\n",
    "        #elif (i>1000 and i<=1500): #(y[i+1]>2.0 and abs(x[i+1])<0.27):se sair por cima\n",
    "        #    plt.plot(y[0],vy[0],color=cmap(norm(i)))#verde        plt.plot(x[0],y[0],'g.')\n",
    "        #elif (i>1500 and i<=2000): #(x[i+1]<-1.5 and y[i+1]<-0.5):se sair pela esquerda\n",
    "        #    plt.plot(y[0],vy[0],color=cmap(norm(i)))#amarelo        plt.plot(x[0],y[0],'r.')\n",
    "        #elif (i>2000 and i<=2500): #(y[i+1]>2.0 and abs(x[i+1])<0.27):se sair por cima\n",
    "        #    plt.plot(y[0],vy[0],color=cmap(norm(i)))#rosa       plt.plot(x[0],y[0],'g.')\n",
    "        #elif (i>2500 and i<=3000): #(y[i+1]>2.0 and abs(x[i+1])<0.27):se sair por cima\n",
    "        #    plt.plot(y[0],vy[0],color=cmap(norm(i)))#vermelho        plt.plot(x[0],y[0],'g.')\n",
    "        #else: #se nao sair\n",
    "        #    plt.plot(y[0],vy[0],color=cmap(norm(i)))#preto        plt.plot(x[0],y[0],'k.')\n",
    "        "
   ]
  },
  {
   "cell_type": "code",
   "execution_count": 15,
   "metadata": {
    "collapsed": false
   },
   "outputs": [
    {
     "name": "stdout",
     "output_type": "stream",
     "text": [
      "164 164 164\n",
      "[3172, 448, 1160, 7902, 305, 9830, 2708, 9149, 342, 250, 7204, 746, 1972, 6626, 1371, 397, 270, 217, 3812, 781, 661, 823, 2622, 2105, 1117, 500, 292, 230, 192, 3626, 3746, 4852, 6810, 8796, 2945, 318, 244, 203, 173, 3963, 2586, 5382, 5742, 1432, 347, 259, 213, 182, 158, 3363, 5644, 6588, 1386, 382, 275, 224, 191, 165, 145, 8388, 4033, 4249, 1367, 1289, 2581, 425, 290, 234, 199, 173, 152, 134, 8941, 481, 305, 245, 207, 180, 158, 140, 125, 5469, 4201, 563, 320, 254, 215, 186, 164, 146, 130, 116, 2808, 5565, 4240, 8745, 742, 333, 263, 222, 193, 170, 151, 135, 121, 109, 4050, 7217, 8621, 8198, 198, 175, 156, 140, 126, 113, 102, 9833, 4457, 161, 145, 130, 118, 106, 96, 6699, 2940, 709, 135, 122, 110, 100, 90, 7945, 8911, 1097, 943, 937, 949, 1000, 557, 114, 104, 94, 85, 4070, 8534, 6853, 98, 89, 81, 9655, 85, 77, 908, 3232, 3198, 634, 80, 73, 5091, 69, 7714, 2023] [-1.0024702701455863, 2.007805375690526, 2.005861781927048, -0.9805669583711261, 2.0124161181081996, -0.9593465734865688, -0.9803786597728378, 2.001237288998102, 2.0013934291353377, 2.0039239649390517, -0.9829461806168746, -1.0069197198305313, -0.9840697764019732, -1.003656761927487, 2.012966266687555, 2.0113082467788344, 2.005660562070346, 2.012097214574012, -1.0018032474141734, -1.0028525666137627, -1.0010174211258804, -0.9816806208689853, -1.0044510566241542, 2.005875758600189, 2.0039620562495775, 2.000801366932042, 2.001778677131379, 2.004728536845357, 2.00236944437246, -1.0019335630653001, -0.963737519043539, 2.0057824938191238, -0.9912311621347429, -1.0031304920487871, 2.0098587659068157, 2.0095425317136026, 2.0016111474592884, 2.0094237983070795, 2.0002386877341207, -0.9732822649141133, -0.9795901084968854, 2.006990172150505, 2.003214223408474, 2.010883758964715, 2.0040020106530005, 2.003597538331387, 2.0022499361211414, 2.005755359299627, 2.0042863857187285, -1.0052080699167796, 2.0074997419389935, -0.9959126127709939, 2.0006438614288817, 2.00456257647778, 2.012618370143941, 2.007046543888886, 2.012103871312295, 2.0005248014233747, 2.002944050801106, -0.9978815743458678, -1.0040481040949882, -1.0048271375829072, 2.003082084026506, 2.0101887189309315, 2.009061135662581, 2.0042212065708034, 2.006164341389028, 2.0005158437000587, 2.007589884373989, 2.0107632795737502, 2.0096742527942832, 2.0036670505080605, -1.0040945412708107, 2.0029060518993314, 2.0024134688530664, 2.0107504733218, 2.0061265175913516, 2.0112216670777534, 2.006483047297285, 2.005917693328015, 2.0111897929065576, -1.0002953616626051, 2.002685136579502, 2.002438573074853, 2.0095264070811614, 2.002670788452281, 2.0096089586440233, 2.002490160834008, 2.0060426478159012, 2.0107800332378565, 2.0073150290299466, 2.0051763966215956, -0.9855427465794672, -1.0024050204260715, 2.0003519438123836, 2.0125286547530745, 2.005075486391472, 2.012809395600553, 2.006177354562771, 2.007308582606348, 2.011382271588348, 2.009252284048556, 2.00614927803263, 2.005862534948589, 2.005656773653711, 2.0116231913855334, 2.000928197029602, 2.0065065525804537, 2.010916129517838, 2.0120388347335463, 2.000752683821863, 2.004179375417339, 2.004951138899924, 2.007342566411281, 2.0088505129131358, 2.003731208286527, 2.0086723787998104, -0.9795705531517832, -1.005304584113397, 2.0080132654813214, 2.0123699204918255, 2.0024310093985935, 2.0106149069520347, 2.0036099759306807, 2.009560505572784, -1.0035721340213493, -0.9798047130105225, 2.001473948739862, 2.012095044578752, 2.0079334311697035, 2.000951039143641, 2.0069527117566754, 2.0034313677803897, 2.0011621803114057, -0.9760316499675996, -0.9641780302760992, -1.00574082642289, -1.0018738442644461, -0.9943478127851454, -1.0012729880964764, 2.001619592637007, 2.0010291307005184, 2.006874794929197, 2.0026916708173026, 2.00317519661218, -1.005883653162066, -1.0012371102700468, -1.002657926631177, 2.004601372247668, 2.004242086194988, 2.009771260052137, -0.9616257547724478, 2.0127538605556343, 2.0116676897247396, 2.0058321762246525, 2.0099041374667967, 2.007939085632114, 2.012511617562872, 2.0031792131021904, 2.0092027547482707, 2.000945237121456, 2.0026970971506364, -1.0054735227779956, 2.00277580575122]\n"
     ]
    }
   ],
   "source": [
    "print(len(vy_val),len(y_val),len(I_val))\n",
    "print(I_val,y_val)"
   ]
  },
  {
   "cell_type": "code",
   "execution_count": 6,
   "metadata": {
    "collapsed": true
   },
   "outputs": [],
   "source": [
    "sc = plt.scatter(y_val,vy_val,c=I_val, cmap=plt.cm.get_cmap('winter'))\n",
    "\n",
    "plt.colorbar(sc)\n",
    "        \n",
    "#plt.axis([-1.5,1.5,-1.5,1.5]) #extensao da janela do plot\n",
    "plt.show() #exibicao do plot"
   ]
  },
  {
   "cell_type": "code",
   "execution_count": null,
   "metadata": {
    "collapsed": true
   },
   "outputs": [],
   "source": []
  }
 ],
 "metadata": {
  "anaconda-cloud": {},
  "kernelspec": {
   "display_name": "Python [Root]",
   "language": "python",
   "name": "Python [Root]"
  },
  "language_info": {
   "codemirror_mode": {
    "name": "ipython",
    "version": 3
   },
   "file_extension": ".py",
   "mimetype": "text/x-python",
   "name": "python",
   "nbconvert_exporter": "python",
   "pygments_lexer": "ipython3",
   "version": "3.5.2"
  }
 },
 "nbformat": 4,
 "nbformat_minor": 2
}
