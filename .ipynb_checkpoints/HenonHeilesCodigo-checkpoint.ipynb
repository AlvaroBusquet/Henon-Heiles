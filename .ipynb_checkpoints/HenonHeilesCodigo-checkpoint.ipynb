{
 "cells": [
  {
   "cell_type": "markdown",
   "metadata": {},
   "source": [
    "VERSAO JANEIRO 2018"
   ]
  },
  {
   "cell_type": "code",
   "execution_count": 1,
   "metadata": {
    "collapsed": true
   },
   "outputs": [],
   "source": [
    "import numpy as np\n",
    "from math import *\n",
    "import matplotlib.pyplot as plt\n",
    "from mpl_toolkits.mplot3d import *"
   ]
  },
  {
   "cell_type": "markdown",
   "metadata": {},
   "source": [
    "Definicao de funcoes"
   ]
  },
  {
   "cell_type": "code",
   "execution_count": 2,
   "metadata": {
    "collapsed": true
   },
   "outputs": [],
   "source": [
    "#equacao de movimento para x2pontos\n",
    "def Fx(m,x,y):\n",
    "    return (-x-2*x*y)/m\n",
    "\n",
    "#equacao de movimento para y2pontos\n",
    "def Fy(m,x,y):\n",
    "    return (-x**2 -y +y**2)/m\n",
    "\n",
    "#mesmas equacoes em coordenadas polares\n",
    "def Fr(m,r,th): #r2pontos\n",
    "    return (-r -3*(r**2)*np.sin(th)*(np.cos(th))**2 - (r**2)*np.sin(th)**3)/m\n",
    "\n",
    "def Fth(m,r,th): #theta2pontos\n",
    "    return (r**3)*(2*np.cos(th)*(np.sin(th))**2 - np.cos(th)**3 + np.cos(th)*np.sin(th)**2)/m\n",
    "\n",
    "#Hamiltoniana e Potencial em Coordenadas Cartesianas\n",
    "def H(vx,vy,x,y):\n",
    "    return 0.5*(vx**2 + vy**2 + x**2 + y**2) + (x**2)*y -(y**3)/3\n",
    "\n",
    "def V(x,y):\n",
    "    return 0.5*(x**2 + y**2) + y*(x**2) - (y**3)/3\n",
    "\n",
    "#Hamiltoniana em Coordenadas Polares\n",
    "def Hp(r,theta,vr,vth):\n",
    "    return 0.5*(vr**2 + r**2) + r*vr*(np.sin(theta)*np.sin(vth) + np.cos(theta)*np.cos(vth)) + (1/2)*r**2 + (np.sin(theta)*np.cos(theta)**2 - (1/3)*np.sin(theta)**3)*r**3\n",
    "#return 0.5*(vr**2 + vth**2) + 0.5*(r**2) + (r**3)*(np.sin(theta)- 4/3*np.sin**3(theta))\n",
    "\n",
    "def Vp(r,theta): #V=V(r,theta)\n",
    "    return (1/2)*r**2+(np.sin(theta)*(np.cos(theta)**2)-(1/3)*np.sin(theta)**3)*r**3"
   ]
  },
  {
   "cell_type": "code",
   "execution_count": null,
   "metadata": {
    "collapsed": true
   },
   "outputs": [],
   "source": [
    "#Velocidade angular, obtem-se de Hp fazendo vr = 0\n",
    "\"\"\"\n",
    "def vth(c,r,theta):\n",
    "    if (r != 0):\n",
    "        return  2*c/r -2*r*(np.sin(theta)-4/3*(np.sin(theta))**3) -1\n",
    "\"\"\""
   ]
  },
  {
   "cell_type": "markdown",
   "metadata": {},
   "source": [
    "Bloco para curva das superficies equipotenciais"
   ]
  },
  {
   "cell_type": "code",
   "execution_count": 3,
   "metadata": {
    "collapsed": false
   },
   "outputs": [
    {
     "name": "stderr",
     "output_type": "stream",
     "text": [
      "C:\\Users\\Cliente\\Anaconda3\\lib\\site-packages\\ipykernel\\__main__.py:9: RuntimeWarning: invalid value encountered in sqrt\n"
     ]
    }
   ],
   "source": [
    "#H para K = 0, formando surperficies equipotenciais\n",
    "N = 500 #quantidade de passos\n",
    "h = 5/N #tamanho do passo\n",
    "yl = np.linspace(-1.5,1.5,N) #valores de y para as curvas\n",
    "c = [i* .4/20 for i in range(1,20)] #conjunto de valores para energia potencial\n",
    "\n",
    "#valores de x para as curvas\n",
    "def xl(yl,c):\n",
    "    return np.sqrt((c + 1/3*yl**3 - 1/2*yl**2)/(1/2 + yl))\n",
    "\n",
    "#plot das curvas\n",
    "fig = plt.figure()\n",
    "for hl in c:\n",
    "    if (hl <= 0.16):\n",
    "        plt.plot(xl(yl,hl),yl,'r-')\n",
    "        plt.plot(-xl(yl,hl),yl,'r-')\n",
    "    else:\n",
    "        plt.plot(xl(yl,hl),yl,'k-')\n",
    "        plt.plot(-xl(yl,hl),yl,'k-')\n",
    "plt.axis([-1.0,1.0,-1.0,1.0])\n",
    "plt.show()"
   ]
  },
  {
   "cell_type": "markdown",
   "metadata": {},
   "source": [
    "Bloco da definicao dos termos para o Runge-Kutta"
   ]
  },
  {
   "cell_type": "code",
   "execution_count": 4,
   "metadata": {
    "collapsed": true
   },
   "outputs": [],
   "source": [
    "#definicao de posicoes x, y e r e theta\n",
    "x = list(range(N))\n",
    "y = list(range(N))\n",
    "r = list(range(N))\n",
    "th = list(range(N))\n",
    "\n",
    "#definicao de velocidades vx, vy e vr e vtheta\n",
    "vx = list(range(N))\n",
    "vy = list(range(N))\n",
    "vr = list(range(N))\n",
    "vth = list(range(N))\n",
    "\n",
    "#definicao dos termos do Runge-Kutta de 4a ordem (em cartesianas)\n",
    "k1vx = list(range(N))\n",
    "k1vy = list(range(N))\n",
    "k1x = list(range(N))\n",
    "k1y = list(range(N))\n",
    "\n",
    "k2vx = list(range(N))\n",
    "k2vy = list(range(N))\n",
    "k2x = list(range(N))\n",
    "k2y = list(range(N))\n",
    "\n",
    "k3vx = list(range(N))\n",
    "k3vy = list(range(N))\n",
    "k3x = list(range(N))\n",
    "k3y = list(range(N))\n",
    "\n",
    "k4vx = list(range(N))\n",
    "k4vy = list(range(N))\n",
    "k4x = list(range(N))\n",
    "k4y = list(range(N))"
   ]
  },
  {
   "cell_type": "code",
   "execution_count": null,
   "metadata": {
    "collapsed": true
   },
   "outputs": [],
   "source": []
  },
  {
   "cell_type": "code",
   "execution_count": 5,
   "metadata": {
    "collapsed": false
   },
   "outputs": [
    {
     "name": "stdout",
     "output_type": "stream",
     "text": [
      "\n",
      "196 196\n",
      "[0.16666666666666666, 0.20452198736637511, 0.26287657920310986, 0.33927052964042759, 0.43124392614188528, 0.53633685617103977, 0.65208940719144792, 0.77604166666666663, 0.9057337220602526, 1.0387056608357628, 1.1724975704567542, 1.3046495383867833, 1.4327016520894071, 1.5541939990281826, 0.16666666666666666] [0, 0.20452198736637511, 0.26287657920310986, 0.33927052964042759, 0.43124392614188528, 0.53633685617103977, 0.65208940719144792, 0.77604166666666663, 0.9057337220602526, 1.0387056608357628, 1.1724975704567542, 1.3046495383867833, 1.4327016520894071, 1.5541939990281826, 0.16666666666666666]\n"
     ]
    }
   ],
   "source": [
    "a=np.linspace(-1.0,1.0,15) #para aplicar ao x\n",
    "b=np.linspace(-0.5,1.0,15) #para aplicar ao y\n",
    "vetPot=[]\n",
    "for i in range(0,len(a)-1):\n",
    "    for j in range(0,len(b)-1):\n",
    "        vetPot.append(V(a[i],b[j]))\n",
    "c=list(range(len(vetPot)))\n",
    "d=list(range(len(vetPot)))\n",
    "for k in range(0,len(c)-2):\n",
    "    c[k]=vetPot[k]\n",
    "for l in range(1,len(d)-1):\n",
    "    d[l]=vetPot[l]\n",
    "print()\n",
    "print(len(c),len(d))\n",
    "print(c[0:15],d[0:15])"
   ]
  },
  {
   "cell_type": "markdown",
   "metadata": {},
   "source": [
    "Bloco da definicao das condicoes iniciais segundo o potencial"
   ]
  },
  {
   "cell_type": "code",
   "execution_count": 12,
   "metadata": {
    "collapsed": false
   },
   "outputs": [
    {
     "name": "stdout",
     "output_type": "stream",
     "text": [
      "2\n",
      "[0.16666666666666666, 194]\n"
     ]
    }
   ],
   "source": [
    "#definicao das condicoes iniciais de r e theta\n",
    "#a=np.linspace(-1.0,1.0,15) #para aplicar ao x\n",
    "#b=np.linspace(-0.5,1.0,15) #para aplicar ao y\n",
    "xCond=[] #condicoes iniciais de x\n",
    "yCond=[] #condicoes iniciais de y\n",
    "#varredura dos elementos dos vetores de condicoes iniciais\n",
    "for k in range(0,len(d)-1):\n",
    "    if (d[k]<c[k]): #condicao para pontos de menor energia que o valor limite e diferentes de zero\n",
    "        xCond.append(c[k])\n",
    "        yCond.append(d[k])\n",
    "    elif(d[k]>c[k]):\n",
    "        continue\n",
    "            \n",
    "print(len(xCond))\n",
    "print(xCond)"
   ]
  },
  {
   "cell_type": "markdown",
   "metadata": {},
   "source": [
    "Bloco do Runge-Kutta. Lembre-se de que, se o plot acontecer:\n",
    "No primeiro laco, apenas condicoes iniciais com 'r' diferente serao plotadas. No segundo laco,\n",
    "No terceiro laco, os pontos das orbitas de todas as condicoes iniciais serao plotadas"
   ]
  },
  {
   "cell_type": "code",
   "execution_count": 13,
   "metadata": {
    "collapsed": false
   },
   "outputs": [
    {
     "name": "stderr",
     "output_type": "stream",
     "text": [
      "C:\\Users\\Cliente\\Anaconda3\\lib\\site-packages\\ipykernel\\__main__.py:9: RuntimeWarning: invalid value encountered in sqrt\n"
     ]
    }
   ],
   "source": [
    "#Fazendo Runge kutta nas equações de movimento para r e theta ARRUMAR COND INICIAIS A PARTIR DE H !!!!!!!!!!!!!!!!!!!!!!!!!!!!!!!!!!\n",
    "#d = np.linspace(0,pi,100) #condicoes iniciais genericas de theta\n",
    "#f = np.linspace(0,0.4,100) #condicoes iniciais genericas de r\n",
    "fig=plt.figure()\n",
    "for j in range(0,len(xCond)-1): #for j in range(0,len(d)):\n",
    "    x[0] = xCond[j] #r[0] = f[j]\n",
    "    vx[0] = 0 #velocidade radial\n",
    "    for k in range(0,len(yCond)-1): #for k in range(0,len(thCond)-1):\n",
    "        y[0] = yCond[k]\n",
    "        aux = abs(2*0.17 - x[0]**2 - 2*(x[0]**3)*(np.sin(y[0]) - 4/3*(np.sin(y[0]))**3))\n",
    "        vy[0] = np.sqrt(aux) #velocidade angular vth[0] = np.sqrt(aux)\n",
    "        for i in range(0,N-1): #for i in range(0,N-1):\n",
    "            k1vx[i] = Fx(1,x[i],y[i])*h\n",
    "            k1vy[i] = Fy(1,x[i],y[i])*h\n",
    "            k1x[i] = vx[i]*h\n",
    "            k1y[i] = vy[i]*h\n",
    "\n",
    "            k2vx[i] = Fx(1,x[i]+k1x[i]/2,y[i]+k1y[i]/2)*h\n",
    "            k2vy[i] = Fy(1,x[i]+k1x[i]/2,y[i]+k1y[i]/2)*h\n",
    "            k2x[i] = (vx[i] + k1vx[i]/2)*h\n",
    "            k2y[i] = (vy[i] + k1vy[i]/2)*h\n",
    "\n",
    "            k3vx[i] = Fx(1,x[i]+k2x[i]/2,y[i]+k2y[i]/2)*h\n",
    "            k3vy[i] = Fy(1,x[i]+k2x[i]/2,y[i]+k2y[i]/2)*h\n",
    "            k3x[i] = (vx[i] + k2vx[i]/2)*h\n",
    "            k3y[i] = (vy[i] + k2vy[i]/2)*h\n",
    "\n",
    "            k4vx[i] = Fx(1,x[i]+k3x[i],y[i]+k3y[i])*h\n",
    "            k4vy[i] = Fy(1,x[i]+k3x[i],y[i]+k3y[i])*h\n",
    "            k4x[i] = (vx[i] + k3vx[i])*h\n",
    "            k4y[i] = (vy[i] + k3vy[i])*h\n",
    "\n",
    "            vx[i+1] = vx[i] + 1/6*(k1vx[i] + 2*(k2vx[i] + k3vx[i]) + k4vx[i])\n",
    "            vy[i+1] = vy[i] + 1/6*(k1vy[i] + 2*(k2vy[i] + k3vy[i]) + k4vy[i])\n",
    "\n",
    "            x[i+1] = x[i] + 1/6*(k1x[i] + 2*(k2x[i] + k3x[i]) + k4x[i])\n",
    "            y[i+1] = y[i] + 1/6*(k1y[i] + 2*(k2y[i] + k3y[i]) + k4y[i])\n",
    "            \n",
    "            if (abs(x[i+1])>1.5 or abs(y[i+1])> 1.5):\n",
    "                break\n",
    "            elif (i==N):\n",
    "                break\n",
    "\n",
    "#    print(x[0],x[N-1])\n",
    "#    print(r)\n",
    "#    print(np.cos(th))\n",
    "#    print(len(x))\n",
    "#    print(type(r))\n",
    "#    print(type(th))\n",
    "#        if (x[i]>pow(10,-1) or y[i]>pow(10,-1)):\n",
    "#            print(x[i],y[i])\n",
    "#    if(x[100]> 0 and y[100] > 1):\n",
    "#        plt.plot(x,y,'g-')\n",
    "#    if(x[100]> sqrt(3)/2 and y[100] > 0.5):\n",
    "#        plt.plot(x,y,'b-')\n",
    "#    if(x[100] < sqrt(3)/2 and y[100] < 0.5):\n",
    "#        plt.plot(x,y,'y-')\n",
    "#    else:\n",
    "#        plt.plot(x,y,'p-')\n",
    "        if (x[i+1]>1.0):\n",
    "            plt.plot(x[1],y[1],'bo')\n",
    "        elif (x[i+1]<-1.0):\n",
    "            plt.plot(x[1],y[1],'go')\n",
    "        else:\n",
    "            plt.plot(x[1],y[1],'yo')\n",
    "\n",
    "\n",
    "plt.axis([-1.5,1.5,-1.5,1.5]) #extensao da janela do plot\n",
    "plt.plot(xl(yl,0.16),yl,'r-') #plot de metade da curva equipotencial\n",
    "plt.plot(-xl(yl,0.16),yl,'r-') #plot da outra metade da curva equipotencial\n",
    "plt.show() #exibicao do plot"
   ]
  },
  {
   "cell_type": "code",
   "execution_count": null,
   "metadata": {
    "collapsed": true
   },
   "outputs": [],
   "source": []
  }
 ],
 "metadata": {
  "anaconda-cloud": {},
  "kernelspec": {
   "display_name": "Python [Root]",
   "language": "python",
   "name": "Python [Root]"
  },
  "language_info": {
   "codemirror_mode": {
    "name": "ipython",
    "version": 3
   },
   "file_extension": ".py",
   "mimetype": "text/x-python",
   "name": "python",
   "nbconvert_exporter": "python",
   "pygments_lexer": "ipython3",
   "version": "3.5.2"
  }
 },
 "nbformat": 4,
 "nbformat_minor": 0
}
